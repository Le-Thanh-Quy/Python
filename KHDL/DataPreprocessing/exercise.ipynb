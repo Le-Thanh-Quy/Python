{
 "cells": [
  {
   "cell_type": "code",
   "execution_count": 366,
   "metadata": {},
   "outputs": [],
   "source": [
    "import pandas as pd\n",
    "import numpy as np\n",
    "from sklearn.model_selection import train_test_split\n",
    "from sklearn.linear_model import LogisticRegression\n",
    "from sklearn.metrics import accuracy_score\n"
   ]
  },
  {
   "cell_type": "markdown",
   "metadata": {},
   "source": [
    "Read data\n"
   ]
  },
  {
   "cell_type": "code",
   "execution_count": 367,
   "metadata": {},
   "outputs": [
    {
     "data": {
      "text/html": [
       "<div>\n",
       "<style scoped>\n",
       "    .dataframe tbody tr th:only-of-type {\n",
       "        vertical-align: middle;\n",
       "    }\n",
       "\n",
       "    .dataframe tbody tr th {\n",
       "        vertical-align: top;\n",
       "    }\n",
       "\n",
       "    .dataframe thead th {\n",
       "        text-align: right;\n",
       "    }\n",
       "</style>\n",
       "<table border=\"1\" class=\"dataframe\">\n",
       "  <thead>\n",
       "    <tr style=\"text-align: right;\">\n",
       "      <th></th>\n",
       "      <th>Survived</th>\n",
       "      <th>Age</th>\n",
       "      <th>Fare</th>\n",
       "    </tr>\n",
       "  </thead>\n",
       "  <tbody>\n",
       "    <tr>\n",
       "      <th>0</th>\n",
       "      <td>0</td>\n",
       "      <td>22.0</td>\n",
       "      <td>7.2500</td>\n",
       "    </tr>\n",
       "    <tr>\n",
       "      <th>1</th>\n",
       "      <td>1</td>\n",
       "      <td>38.0</td>\n",
       "      <td>71.2833</td>\n",
       "    </tr>\n",
       "    <tr>\n",
       "      <th>2</th>\n",
       "      <td>1</td>\n",
       "      <td>26.0</td>\n",
       "      <td>7.9250</td>\n",
       "    </tr>\n",
       "    <tr>\n",
       "      <th>3</th>\n",
       "      <td>1</td>\n",
       "      <td>35.0</td>\n",
       "      <td>53.1000</td>\n",
       "    </tr>\n",
       "    <tr>\n",
       "      <th>4</th>\n",
       "      <td>0</td>\n",
       "      <td>35.0</td>\n",
       "      <td>8.0500</td>\n",
       "    </tr>\n",
       "    <tr>\n",
       "      <th>...</th>\n",
       "      <td>...</td>\n",
       "      <td>...</td>\n",
       "      <td>...</td>\n",
       "    </tr>\n",
       "    <tr>\n",
       "      <th>886</th>\n",
       "      <td>0</td>\n",
       "      <td>27.0</td>\n",
       "      <td>13.0000</td>\n",
       "    </tr>\n",
       "    <tr>\n",
       "      <th>887</th>\n",
       "      <td>1</td>\n",
       "      <td>19.0</td>\n",
       "      <td>30.0000</td>\n",
       "    </tr>\n",
       "    <tr>\n",
       "      <th>888</th>\n",
       "      <td>0</td>\n",
       "      <td>NaN</td>\n",
       "      <td>23.4500</td>\n",
       "    </tr>\n",
       "    <tr>\n",
       "      <th>889</th>\n",
       "      <td>1</td>\n",
       "      <td>26.0</td>\n",
       "      <td>30.0000</td>\n",
       "    </tr>\n",
       "    <tr>\n",
       "      <th>890</th>\n",
       "      <td>0</td>\n",
       "      <td>32.0</td>\n",
       "      <td>7.7500</td>\n",
       "    </tr>\n",
       "  </tbody>\n",
       "</table>\n",
       "<p>891 rows × 3 columns</p>\n",
       "</div>"
      ],
      "text/plain": [
       "     Survived   Age     Fare\n",
       "0           0  22.0   7.2500\n",
       "1           1  38.0  71.2833\n",
       "2           1  26.0   7.9250\n",
       "3           1  35.0  53.1000\n",
       "4           0  35.0   8.0500\n",
       "..        ...   ...      ...\n",
       "886         0  27.0  13.0000\n",
       "887         1  19.0  30.0000\n",
       "888         0   NaN  23.4500\n",
       "889         1  26.0  30.0000\n",
       "890         0  32.0   7.7500\n",
       "\n",
       "[891 rows x 3 columns]"
      ]
     },
     "execution_count": 367,
     "metadata": {},
     "output_type": "execute_result"
    }
   ],
   "source": [
    "df = pd.read_csv('titanic.csv')\n",
    "df = df.drop(columns=['PassengerId', 'Pclass', 'Name', 'Sex',\n",
    "             'SibSp', 'Parch', 'Ticket', 'Cabin', 'Embarked'], axis=1)\n",
    "df\n"
   ]
  },
  {
   "cell_type": "code",
   "execution_count": 368,
   "metadata": {},
   "outputs": [
    {
     "data": {
      "text/plain": [
       "Survived      0\n",
       "Age         177\n",
       "Fare          0\n",
       "dtype: int64"
      ]
     },
     "execution_count": 368,
     "metadata": {},
     "output_type": "execute_result"
    }
   ],
   "source": [
    "df.isnull().sum()\n"
   ]
  },
  {
   "cell_type": "code",
   "execution_count": 369,
   "metadata": {},
   "outputs": [],
   "source": [
    "result = np.zeros((14, 11))\n",
    "index = 0\n"
   ]
  },
  {
   "cell_type": "code",
   "execution_count": 370,
   "metadata": {},
   "outputs": [],
   "source": [
    "def logistic_regression(titanic_data, test_size=0.3, random_state=0):\n",
    "    X = titanic_data.drop(columns='Survived', axis=1)\n",
    "    Y = titanic_data['Survived']\n",
    "\n",
    "    X_train, X_test, Y_train, Y_test = train_test_split(\n",
    "        X, Y, test_size=test_size, random_state=random_state)\n",
    "    # print(X.shape, X_train.shape, X_test.shape)\n",
    "\n",
    "    model = LogisticRegression()\n",
    "    model.fit(X_train, Y_train)\n",
    "\n",
    "    X_train_prediction = model.predict(X_train)\n",
    "    training_data_accuracy = accuracy_score(Y_train, X_train_prediction)\n",
    "    # print('Accuracy score of training data : ', training_data_accuracy)\n",
    "\n",
    "    X_test_prediction = model.predict(X_test)\n",
    "    test_data_accuracy = accuracy_score(Y_test, X_test_prediction)\n",
    "    # print('Accuracy score of test data : ', test_data_accuracy)\n",
    "    return test_data_accuracy\n"
   ]
  },
  {
   "cell_type": "code",
   "execution_count": 371,
   "metadata": {},
   "outputs": [],
   "source": [
    "def write_result(titanic_data):\n",
    "    global index\n",
    "    for i in range(10):\n",
    "        result[index][i] = logistic_regression(\n",
    "            titanic_data=titanic_data, random_state=i)\n",
    "    result[index][10] = np.mean(result[index][0:9])\n",
    "    index += 1\n"
   ]
  },
  {
   "cell_type": "code",
   "execution_count": 372,
   "metadata": {},
   "outputs": [],
   "source": [
    "def outliers(titanic_data):\n",
    "    lower_boundary = titanic_data['Age'].mean() - 3 * titanic_data['Age'].std()\n",
    "    uppper_boundary = titanic_data['Age'].mean(\n",
    "    ) + 3 * titanic_data['Age'].std()\n",
    "    titanic_data.loc[titanic_data['Age'] >= int(\n",
    "        uppper_boundary), 'Age'] = int(uppper_boundary)\n",
    "\n",
    "    IQR = titanic_data.Fare.quantile(0.75) - titanic_data.Fare.quantile(0.25)\n",
    "    lower_bridge = titanic_data['Fare'].quantile(0.25) - (IQR*3)\n",
    "    upper_bridge = titanic_data['Fare'].quantile(0.75) + (IQR*3)\n",
    "    titanic_data.loc[titanic_data['Fare'] >= int(\n",
    "        upper_bridge), 'Fare'] = int(upper_bridge)\n",
    "\n",
    "    return titanic_data\n"
   ]
  },
  {
   "cell_type": "markdown",
   "metadata": {},
   "source": [
    "# Mean\n"
   ]
  },
  {
   "cell_type": "code",
   "execution_count": 373,
   "metadata": {},
   "outputs": [
    {
     "data": {
      "text/plain": [
       "Survived    0\n",
       "Age         0\n",
       "Fare        0\n",
       "dtype: int64"
      ]
     },
     "execution_count": 373,
     "metadata": {},
     "output_type": "execute_result"
    }
   ],
   "source": [
    "titanic_data = df.copy()\n",
    "titanic_data['Age'].fillna(titanic_data['Age'].mean(), inplace=True)\n",
    "titanic_data.isnull().sum()\n"
   ]
  },
  {
   "cell_type": "code",
   "execution_count": 374,
   "metadata": {},
   "outputs": [],
   "source": [
    "write_result(titanic_data)\n",
    "titanic_data = outliers(titanic_data)\n",
    "write_result(titanic_data)\n"
   ]
  },
  {
   "cell_type": "markdown",
   "metadata": {},
   "source": [
    "# Median\n"
   ]
  },
  {
   "cell_type": "code",
   "execution_count": 375,
   "metadata": {},
   "outputs": [
    {
     "data": {
      "text/plain": [
       "Survived    0\n",
       "Age         0\n",
       "Fare        0\n",
       "dtype: int64"
      ]
     },
     "execution_count": 375,
     "metadata": {},
     "output_type": "execute_result"
    }
   ],
   "source": [
    "titanic_data = df.copy()\n",
    "titanic_data['Age'].fillna(titanic_data['Age'].median(), inplace=True)\n",
    "titanic_data.isnull().sum()\n"
   ]
  },
  {
   "cell_type": "code",
   "execution_count": 376,
   "metadata": {},
   "outputs": [],
   "source": [
    "write_result(titanic_data)\n",
    "titanic_data = outliers(titanic_data)\n",
    "write_result(titanic_data)\n"
   ]
  },
  {
   "cell_type": "markdown",
   "metadata": {},
   "source": [
    "# Mode\n"
   ]
  },
  {
   "cell_type": "code",
   "execution_count": 377,
   "metadata": {},
   "outputs": [
    {
     "data": {
      "text/plain": [
       "Survived    0\n",
       "Age         0\n",
       "Fare        0\n",
       "dtype: int64"
      ]
     },
     "execution_count": 377,
     "metadata": {},
     "output_type": "execute_result"
    }
   ],
   "source": [
    "titanic_data = df.copy()\n",
    "titanic_data['Age'].fillna(titanic_data['Age'].mode()[0], inplace=True)\n",
    "titanic_data.isnull().sum()\n"
   ]
  },
  {
   "cell_type": "code",
   "execution_count": 378,
   "metadata": {},
   "outputs": [],
   "source": [
    "write_result(titanic_data)\n",
    "titanic_data = outliers(titanic_data)\n",
    "write_result(titanic_data)\n"
   ]
  },
  {
   "cell_type": "markdown",
   "metadata": {},
   "source": [
    "# Random\n"
   ]
  },
  {
   "cell_type": "code",
   "execution_count": 379,
   "metadata": {},
   "outputs": [
    {
     "data": {
      "text/plain": [
       "Survived    0\n",
       "Age         0\n",
       "Fare        0\n",
       "dtype: int64"
      ]
     },
     "execution_count": 379,
     "metadata": {},
     "output_type": "execute_result"
    }
   ],
   "source": [
    "titanic_data = df.copy()\n",
    "random_samples = titanic_data['Age'].dropna().sample(\n",
    "    n=titanic_data['Age'].isnull().sum(), random_state=0)\n",
    "random_samples.index = titanic_data[titanic_data['Age'].isnull()].index\n",
    "titanic_data.loc[titanic_data['Age'].isnull(), 'Age'] = random_samples\n",
    "titanic_data.isnull().sum()\n"
   ]
  },
  {
   "cell_type": "code",
   "execution_count": 380,
   "metadata": {},
   "outputs": [],
   "source": [
    "write_result(titanic_data)\n",
    "titanic_data = outliers(titanic_data)\n",
    "write_result(titanic_data)\n"
   ]
  },
  {
   "cell_type": "markdown",
   "metadata": {},
   "source": [
    "# End of dist\n"
   ]
  },
  {
   "cell_type": "code",
   "execution_count": 381,
   "metadata": {},
   "outputs": [
    {
     "data": {
      "text/plain": [
       "Survived    0\n",
       "Age         0\n",
       "Fare        0\n",
       "dtype: int64"
      ]
     },
     "execution_count": 381,
     "metadata": {},
     "output_type": "execute_result"
    }
   ],
   "source": [
    "titanic_data = df.copy()\n",
    "extreme = titanic_data.Age.mean() + 3*titanic_data.Age.std()\n",
    "titanic_data['Age'] = titanic_data['Age'].fillna(extreme)\n",
    "titanic_data.isnull().sum()\n"
   ]
  },
  {
   "cell_type": "code",
   "execution_count": 382,
   "metadata": {},
   "outputs": [],
   "source": [
    "write_result(titanic_data)\n",
    "titanic_data = outliers(titanic_data)\n",
    "write_result(titanic_data)\n"
   ]
  },
  {
   "cell_type": "markdown",
   "metadata": {},
   "source": [
    "# Arbitrary value\n"
   ]
  },
  {
   "cell_type": "code",
   "execution_count": 383,
   "metadata": {},
   "outputs": [
    {
     "data": {
      "text/plain": [
       "Survived    0\n",
       "Age         0\n",
       "Fare        0\n",
       "dtype: int64"
      ]
     },
     "execution_count": 383,
     "metadata": {},
     "output_type": "execute_result"
    }
   ],
   "source": [
    "value = 50\n",
    "titanic_data = df.copy()\n",
    "titanic_data['Age'] = titanic_data['Age'].fillna(value)\n",
    "titanic_data.isnull().sum()\n"
   ]
  },
  {
   "cell_type": "code",
   "execution_count": 384,
   "metadata": {},
   "outputs": [],
   "source": [
    "write_result(titanic_data)\n",
    "titanic_data = outliers(titanic_data)\n",
    "write_result(titanic_data)\n"
   ]
  },
  {
   "cell_type": "markdown",
   "metadata": {},
   "source": [
    "# New feature\n"
   ]
  },
  {
   "cell_type": "code",
   "execution_count": 385,
   "metadata": {},
   "outputs": [
    {
     "data": {
      "text/plain": [
       "Survived    0\n",
       "Age         0\n",
       "Fare        0\n",
       "Age_NAN     0\n",
       "dtype: int64"
      ]
     },
     "execution_count": 385,
     "metadata": {},
     "output_type": "execute_result"
    }
   ],
   "source": [
    "titanic_data = df.copy()\n",
    "titanic_data['Age_NAN'] = np.where(titanic_data['Age'].isnull(), 1, 0)\n",
    "titanic_data['Age'].fillna(titanic_data.Age.median(), inplace=True)\n",
    "titanic_data.isnull().sum()\n"
   ]
  },
  {
   "cell_type": "code",
   "execution_count": 386,
   "metadata": {},
   "outputs": [],
   "source": [
    "write_result(titanic_data)\n",
    "titanic_data = outliers(titanic_data)\n",
    "write_result(titanic_data)\n"
   ]
  },
  {
   "cell_type": "code",
   "execution_count": 387,
   "metadata": {},
   "outputs": [
    {
     "data": {
      "text/html": [
       "<div>\n",
       "<style scoped>\n",
       "    .dataframe tbody tr th:only-of-type {\n",
       "        vertical-align: middle;\n",
       "    }\n",
       "\n",
       "    .dataframe tbody tr th {\n",
       "        vertical-align: top;\n",
       "    }\n",
       "\n",
       "    .dataframe thead th {\n",
       "        text-align: right;\n",
       "    }\n",
       "</style>\n",
       "<table border=\"1\" class=\"dataframe\">\n",
       "  <thead>\n",
       "    <tr style=\"text-align: right;\">\n",
       "      <th></th>\n",
       "      <th>0</th>\n",
       "      <th>1</th>\n",
       "      <th>2</th>\n",
       "      <th>3</th>\n",
       "      <th>4</th>\n",
       "      <th>5</th>\n",
       "      <th>6</th>\n",
       "      <th>7</th>\n",
       "      <th>8</th>\n",
       "      <th>9</th>\n",
       "      <th>Mean</th>\n",
       "    </tr>\n",
       "  </thead>\n",
       "  <tbody>\n",
       "    <tr>\n",
       "      <th>Mean</th>\n",
       "      <td>0.686567</td>\n",
       "      <td>0.619403</td>\n",
       "      <td>0.656716</td>\n",
       "      <td>0.641791</td>\n",
       "      <td>0.675373</td>\n",
       "      <td>0.645522</td>\n",
       "      <td>0.686567</td>\n",
       "      <td>0.630597</td>\n",
       "      <td>0.656716</td>\n",
       "      <td>0.630597</td>\n",
       "      <td>0.655473</td>\n",
       "    </tr>\n",
       "    <tr>\n",
       "      <th>Mean outliers</th>\n",
       "      <td>0.697761</td>\n",
       "      <td>0.623134</td>\n",
       "      <td>0.686567</td>\n",
       "      <td>0.623134</td>\n",
       "      <td>0.667910</td>\n",
       "      <td>0.694030</td>\n",
       "      <td>0.712687</td>\n",
       "      <td>0.660448</td>\n",
       "      <td>0.667910</td>\n",
       "      <td>0.638060</td>\n",
       "      <td>0.670398</td>\n",
       "    </tr>\n",
       "    <tr>\n",
       "      <th>Median</th>\n",
       "      <td>0.686567</td>\n",
       "      <td>0.623134</td>\n",
       "      <td>0.656716</td>\n",
       "      <td>0.645522</td>\n",
       "      <td>0.675373</td>\n",
       "      <td>0.638060</td>\n",
       "      <td>0.682836</td>\n",
       "      <td>0.634328</td>\n",
       "      <td>0.656716</td>\n",
       "      <td>0.634328</td>\n",
       "      <td>0.655473</td>\n",
       "    </tr>\n",
       "    <tr>\n",
       "      <th>Median outliers</th>\n",
       "      <td>0.701493</td>\n",
       "      <td>0.623134</td>\n",
       "      <td>0.682836</td>\n",
       "      <td>0.623134</td>\n",
       "      <td>0.667910</td>\n",
       "      <td>0.694030</td>\n",
       "      <td>0.712687</td>\n",
       "      <td>0.660448</td>\n",
       "      <td>0.667910</td>\n",
       "      <td>0.638060</td>\n",
       "      <td>0.670398</td>\n",
       "    </tr>\n",
       "    <tr>\n",
       "      <th>Mode</th>\n",
       "      <td>0.694030</td>\n",
       "      <td>0.623134</td>\n",
       "      <td>0.649254</td>\n",
       "      <td>0.641791</td>\n",
       "      <td>0.679104</td>\n",
       "      <td>0.649254</td>\n",
       "      <td>0.679104</td>\n",
       "      <td>0.623134</td>\n",
       "      <td>0.656716</td>\n",
       "      <td>0.638060</td>\n",
       "      <td>0.655058</td>\n",
       "    </tr>\n",
       "    <tr>\n",
       "      <th>Mode outliers</th>\n",
       "      <td>0.694030</td>\n",
       "      <td>0.626866</td>\n",
       "      <td>0.686567</td>\n",
       "      <td>0.623134</td>\n",
       "      <td>0.656716</td>\n",
       "      <td>0.694030</td>\n",
       "      <td>0.705224</td>\n",
       "      <td>0.660448</td>\n",
       "      <td>0.667910</td>\n",
       "      <td>0.638060</td>\n",
       "      <td>0.668325</td>\n",
       "    </tr>\n",
       "    <tr>\n",
       "      <th>Random</th>\n",
       "      <td>0.694030</td>\n",
       "      <td>0.626866</td>\n",
       "      <td>0.656716</td>\n",
       "      <td>0.626866</td>\n",
       "      <td>0.679104</td>\n",
       "      <td>0.652985</td>\n",
       "      <td>0.682836</td>\n",
       "      <td>0.626866</td>\n",
       "      <td>0.660448</td>\n",
       "      <td>0.638060</td>\n",
       "      <td>0.656302</td>\n",
       "    </tr>\n",
       "    <tr>\n",
       "      <th>Random outliers</th>\n",
       "      <td>0.701493</td>\n",
       "      <td>0.638060</td>\n",
       "      <td>0.686567</td>\n",
       "      <td>0.615672</td>\n",
       "      <td>0.664179</td>\n",
       "      <td>0.697761</td>\n",
       "      <td>0.705224</td>\n",
       "      <td>0.664179</td>\n",
       "      <td>0.667910</td>\n",
       "      <td>0.634328</td>\n",
       "      <td>0.671227</td>\n",
       "    </tr>\n",
       "    <tr>\n",
       "      <th>End of dist</th>\n",
       "      <td>0.694030</td>\n",
       "      <td>0.630597</td>\n",
       "      <td>0.664179</td>\n",
       "      <td>0.626866</td>\n",
       "      <td>0.701493</td>\n",
       "      <td>0.671642</td>\n",
       "      <td>0.697761</td>\n",
       "      <td>0.638060</td>\n",
       "      <td>0.667910</td>\n",
       "      <td>0.645522</td>\n",
       "      <td>0.665837</td>\n",
       "    </tr>\n",
       "    <tr>\n",
       "      <th>End of dist outliers</th>\n",
       "      <td>0.701493</td>\n",
       "      <td>0.630597</td>\n",
       "      <td>0.682836</td>\n",
       "      <td>0.623134</td>\n",
       "      <td>0.656716</td>\n",
       "      <td>0.679104</td>\n",
       "      <td>0.705224</td>\n",
       "      <td>0.671642</td>\n",
       "      <td>0.667910</td>\n",
       "      <td>0.645522</td>\n",
       "      <td>0.668740</td>\n",
       "    </tr>\n",
       "    <tr>\n",
       "      <th>Arbitrary value</th>\n",
       "      <td>0.694030</td>\n",
       "      <td>0.626866</td>\n",
       "      <td>0.660448</td>\n",
       "      <td>0.638060</td>\n",
       "      <td>0.697761</td>\n",
       "      <td>0.656716</td>\n",
       "      <td>0.705224</td>\n",
       "      <td>0.630597</td>\n",
       "      <td>0.664179</td>\n",
       "      <td>0.645522</td>\n",
       "      <td>0.663765</td>\n",
       "    </tr>\n",
       "    <tr>\n",
       "      <th>Arbitrary value outliers</th>\n",
       "      <td>0.690299</td>\n",
       "      <td>0.626866</td>\n",
       "      <td>0.675373</td>\n",
       "      <td>0.615672</td>\n",
       "      <td>0.656716</td>\n",
       "      <td>0.679104</td>\n",
       "      <td>0.712687</td>\n",
       "      <td>0.649254</td>\n",
       "      <td>0.671642</td>\n",
       "      <td>0.638060</td>\n",
       "      <td>0.664179</td>\n",
       "    </tr>\n",
       "    <tr>\n",
       "      <th>New feature</th>\n",
       "      <td>0.694030</td>\n",
       "      <td>0.626866</td>\n",
       "      <td>0.660448</td>\n",
       "      <td>0.634328</td>\n",
       "      <td>0.697761</td>\n",
       "      <td>0.656716</td>\n",
       "      <td>0.694030</td>\n",
       "      <td>0.623134</td>\n",
       "      <td>0.667910</td>\n",
       "      <td>0.645522</td>\n",
       "      <td>0.661692</td>\n",
       "    </tr>\n",
       "    <tr>\n",
       "      <th>New feature outliers</th>\n",
       "      <td>0.690299</td>\n",
       "      <td>0.626866</td>\n",
       "      <td>0.682836</td>\n",
       "      <td>0.615672</td>\n",
       "      <td>0.656716</td>\n",
       "      <td>0.686567</td>\n",
       "      <td>0.712687</td>\n",
       "      <td>0.649254</td>\n",
       "      <td>0.671642</td>\n",
       "      <td>0.641791</td>\n",
       "      <td>0.665837</td>\n",
       "    </tr>\n",
       "  </tbody>\n",
       "</table>\n",
       "</div>"
      ],
      "text/plain": [
       "                                 0         1         2         3         4  \\\n",
       "Mean                      0.686567  0.619403  0.656716  0.641791  0.675373   \n",
       "Mean outliers             0.697761  0.623134  0.686567  0.623134  0.667910   \n",
       "Median                    0.686567  0.623134  0.656716  0.645522  0.675373   \n",
       "Median outliers           0.701493  0.623134  0.682836  0.623134  0.667910   \n",
       "Mode                      0.694030  0.623134  0.649254  0.641791  0.679104   \n",
       "Mode outliers             0.694030  0.626866  0.686567  0.623134  0.656716   \n",
       "Random                    0.694030  0.626866  0.656716  0.626866  0.679104   \n",
       "Random outliers           0.701493  0.638060  0.686567  0.615672  0.664179   \n",
       "End of dist               0.694030  0.630597  0.664179  0.626866  0.701493   \n",
       "End of dist outliers      0.701493  0.630597  0.682836  0.623134  0.656716   \n",
       "Arbitrary value           0.694030  0.626866  0.660448  0.638060  0.697761   \n",
       "Arbitrary value outliers  0.690299  0.626866  0.675373  0.615672  0.656716   \n",
       "New feature               0.694030  0.626866  0.660448  0.634328  0.697761   \n",
       "New feature outliers      0.690299  0.626866  0.682836  0.615672  0.656716   \n",
       "\n",
       "                                 5         6         7         8         9  \\\n",
       "Mean                      0.645522  0.686567  0.630597  0.656716  0.630597   \n",
       "Mean outliers             0.694030  0.712687  0.660448  0.667910  0.638060   \n",
       "Median                    0.638060  0.682836  0.634328  0.656716  0.634328   \n",
       "Median outliers           0.694030  0.712687  0.660448  0.667910  0.638060   \n",
       "Mode                      0.649254  0.679104  0.623134  0.656716  0.638060   \n",
       "Mode outliers             0.694030  0.705224  0.660448  0.667910  0.638060   \n",
       "Random                    0.652985  0.682836  0.626866  0.660448  0.638060   \n",
       "Random outliers           0.697761  0.705224  0.664179  0.667910  0.634328   \n",
       "End of dist               0.671642  0.697761  0.638060  0.667910  0.645522   \n",
       "End of dist outliers      0.679104  0.705224  0.671642  0.667910  0.645522   \n",
       "Arbitrary value           0.656716  0.705224  0.630597  0.664179  0.645522   \n",
       "Arbitrary value outliers  0.679104  0.712687  0.649254  0.671642  0.638060   \n",
       "New feature               0.656716  0.694030  0.623134  0.667910  0.645522   \n",
       "New feature outliers      0.686567  0.712687  0.649254  0.671642  0.641791   \n",
       "\n",
       "                              Mean  \n",
       "Mean                      0.655473  \n",
       "Mean outliers             0.670398  \n",
       "Median                    0.655473  \n",
       "Median outliers           0.670398  \n",
       "Mode                      0.655058  \n",
       "Mode outliers             0.668325  \n",
       "Random                    0.656302  \n",
       "Random outliers           0.671227  \n",
       "End of dist               0.665837  \n",
       "End of dist outliers      0.668740  \n",
       "Arbitrary value           0.663765  \n",
       "Arbitrary value outliers  0.664179  \n",
       "New feature               0.661692  \n",
       "New feature outliers      0.665837  "
      ]
     },
     "execution_count": 387,
     "metadata": {},
     "output_type": "execute_result"
    }
   ],
   "source": [
    "df = pd.DataFrame(result, index=['Mean', 'Mean outliers', 'Median', 'Median outliers', 'Mode', 'Mode outliers',\n",
    "                                 'Random', 'Random outliers', 'End of dist', 'End of dist outliers', 'Arbitrary value',\n",
    "                                 'Arbitrary value outliers', 'New feature', 'New feature outliers'],\n",
    "                    columns=[0, 1, 2, 3, 4, 5, 6, 7, 8, 9, 'Mean'])\n",
    "df\n"
   ]
  }
 ],
 "metadata": {
  "interpreter": {
   "hash": "e6b9418c18b08600c4d2cb358584b48c4017af2cf37844535aa262a4cd23b779"
  },
  "kernelspec": {
   "display_name": "Python 3.10.2 64-bit",
   "language": "python",
   "name": "python3"
  },
  "language_info": {
   "codemirror_mode": {
    "name": "ipython",
    "version": 3
   },
   "file_extension": ".py",
   "mimetype": "text/x-python",
   "name": "python",
   "nbconvert_exporter": "python",
   "pygments_lexer": "ipython3",
   "version": "3.10.2"
  },
  "orig_nbformat": 4
 },
 "nbformat": 4,
 "nbformat_minor": 2
}
